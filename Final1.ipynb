{
 "cells": [
  {
   "cell_type": "code",
   "execution_count": 1,
   "metadata": {
    "colab": {
     "base_uri": "https://localhost:8080/",
     "height": 71
    },
    "executionInfo": {
     "elapsed": 3446,
     "status": "ok",
     "timestamp": 1604916373783,
     "user": {
      "displayName": "Ananda Hange",
      "photoUrl": "",
      "userId": "08318906962772725564"
     },
     "user_tz": -330
    },
    "id": "ViBJtUQe_1IG",
    "outputId": "b0758351-b7a9-4991-c6fd-d656d88488e7"
   },
   "outputs": [
    {
     "name": "stderr",
     "output_type": "stream",
     "text": [
      "/usr/local/lib/python3.6/dist-packages/statsmodels/tools/_testing.py:19: FutureWarning: pandas.util.testing is deprecated. Use the functions in the public API at pandas.testing instead.\n",
      "  import pandas.util.testing as tm\n"
     ]
    },
    {
     "data": {
      "text/html": [
       "        <script type=\"text/javascript\">\n",
       "        window.PlotlyConfig = {MathJaxConfig: 'local'};\n",
       "        if (window.MathJax) {MathJax.Hub.Config({SVG: {font: \"STIX-Web\"}});}\n",
       "        if (typeof require !== 'undefined') {\n",
       "        require.undef(\"plotly\");\n",
       "        requirejs.config({\n",
       "            paths: {\n",
       "                'plotly': ['https://cdn.plot.ly/plotly-latest.min']\n",
       "            }\n",
       "        });\n",
       "        require(['plotly'], function(Plotly) {\n",
       "            window._Plotly = Plotly;\n",
       "        });\n",
       "        }\n",
       "        </script>\n",
       "        "
      ]
     },
     "metadata": {
      "tags": []
     },
     "output_type": "display_data"
    }
   ],
   "source": [
    "import numpy as np\n",
    "import pandas as pd\n",
    "import seaborn as sns\n",
    "import matplotlib.pyplot as plt\n",
    "from subprocess import check_output\n",
    "from scipy import stats \n",
    "import scipy.stats as stats\n",
    "import statsmodels.api as sm\n",
    "%matplotlib inline\n",
    "import plotly.offline as py\n",
    "py.init_notebook_mode(connected=True)\n",
    "import plotly.graph_objs as go\n",
    "import plotly.tools as tls\n",
    "from sklearn.feature_selection import RFE\n",
    "from sklearn.tree import DecisionTreeRegressor\n",
    "from sklearn.feature_selection import SelectKBest\n",
    "from sklearn.feature_selection import f_regression\n",
    "from sklearn.ensemble import ExtraTreesRegressor,RandomForestRegressor,AdaBoostRegressor\n",
    "from sklearn.model_selection import cross_val_score\n",
    "from sklearn.model_selection import RandomizedSearchCV\n",
    "import os\n",
    "import time\n",
    "import gc\n",
    "import pylab\n",
    "from sklearn.model_selection import train_test_split\n",
    "from sklearn.model_selection import GridSearchCV\n",
    "from sklearn.linear_model import SGDRegressor,Lasso,LinearRegression,Ridge\n",
    "from sklearn.svm import SVR\n",
    "from sklearn.metrics import make_scorer\n",
    "from sklearn.neighbors import KNeighborsRegressor\n",
    "from sklearn.metrics import mean_absolute_error\n",
    "import xgboost as xgb\n",
    "from xgboost import XGBRegressor\n",
    "from sklearn.model_selection import KFold\n",
    "import random\n",
    "import joblib\n",
    "\n",
    "import warnings\n",
    "warnings.filterwarnings(\"ignore\")"
   ]
  },
  {
   "cell_type": "code",
   "execution_count": 4,
   "metadata": {
    "colab": {
     "base_uri": "https://localhost:8080/",
     "height": 129
    },
    "executionInfo": {
     "elapsed": 7323,
     "status": "ok",
     "timestamp": 1604916514292,
     "user": {
      "displayName": "Ananda Hange",
      "photoUrl": "",
      "userId": "08318906962772725564"
     },
     "user_tz": -330
    },
    "id": "RUw2fgUNAWbS",
    "outputId": "3c1ceedf-a2c1-4c7c-ec54-0d23e06ba22d"
   },
   "outputs": [
    {
     "data": {
      "text/html": [
       "<div>\n",
       "<style scoped>\n",
       "    .dataframe tbody tr th:only-of-type {\n",
       "        vertical-align: middle;\n",
       "    }\n",
       "\n",
       "    .dataframe tbody tr th {\n",
       "        vertical-align: top;\n",
       "    }\n",
       "\n",
       "    .dataframe thead th {\n",
       "        text-align: right;\n",
       "    }\n",
       "</style>\n",
       "<table border=\"1\" class=\"dataframe\">\n",
       "  <thead>\n",
       "    <tr style=\"text-align: right;\">\n",
       "      <th></th>\n",
       "      <th>id</th>\n",
       "      <th>cat1</th>\n",
       "      <th>cat2</th>\n",
       "      <th>cat3</th>\n",
       "      <th>cat4</th>\n",
       "      <th>cat5</th>\n",
       "      <th>cat6</th>\n",
       "      <th>cat7</th>\n",
       "      <th>cat8</th>\n",
       "      <th>cat9</th>\n",
       "      <th>cat10</th>\n",
       "      <th>cat11</th>\n",
       "      <th>cat12</th>\n",
       "      <th>cat13</th>\n",
       "      <th>cat14</th>\n",
       "      <th>cat15</th>\n",
       "      <th>cat16</th>\n",
       "      <th>cat17</th>\n",
       "      <th>cat18</th>\n",
       "      <th>cat19</th>\n",
       "      <th>cat20</th>\n",
       "      <th>cat21</th>\n",
       "      <th>cat22</th>\n",
       "      <th>cat23</th>\n",
       "      <th>cat24</th>\n",
       "      <th>cat25</th>\n",
       "      <th>cat26</th>\n",
       "      <th>cat27</th>\n",
       "      <th>cat28</th>\n",
       "      <th>cat29</th>\n",
       "      <th>cat30</th>\n",
       "      <th>cat31</th>\n",
       "      <th>cat32</th>\n",
       "      <th>cat33</th>\n",
       "      <th>cat34</th>\n",
       "      <th>cat35</th>\n",
       "      <th>cat36</th>\n",
       "      <th>cat37</th>\n",
       "      <th>cat38</th>\n",
       "      <th>cat39</th>\n",
       "      <th>...</th>\n",
       "      <th>cat92</th>\n",
       "      <th>cat93</th>\n",
       "      <th>cat94</th>\n",
       "      <th>cat95</th>\n",
       "      <th>cat96</th>\n",
       "      <th>cat97</th>\n",
       "      <th>cat98</th>\n",
       "      <th>cat99</th>\n",
       "      <th>cat100</th>\n",
       "      <th>cat101</th>\n",
       "      <th>cat102</th>\n",
       "      <th>cat103</th>\n",
       "      <th>cat104</th>\n",
       "      <th>cat105</th>\n",
       "      <th>cat106</th>\n",
       "      <th>cat107</th>\n",
       "      <th>cat108</th>\n",
       "      <th>cat109</th>\n",
       "      <th>cat110</th>\n",
       "      <th>cat111</th>\n",
       "      <th>cat112</th>\n",
       "      <th>cat113</th>\n",
       "      <th>cat114</th>\n",
       "      <th>cat115</th>\n",
       "      <th>cat116</th>\n",
       "      <th>cont1</th>\n",
       "      <th>cont2</th>\n",
       "      <th>cont3</th>\n",
       "      <th>cont4</th>\n",
       "      <th>cont5</th>\n",
       "      <th>cont6</th>\n",
       "      <th>cont7</th>\n",
       "      <th>cont8</th>\n",
       "      <th>cont9</th>\n",
       "      <th>cont10</th>\n",
       "      <th>cont11</th>\n",
       "      <th>cont12</th>\n",
       "      <th>cont13</th>\n",
       "      <th>cont14</th>\n",
       "      <th>loss</th>\n",
       "    </tr>\n",
       "  </thead>\n",
       "  <tbody>\n",
       "    <tr>\n",
       "      <th>0</th>\n",
       "      <td>147361</td>\n",
       "      <td>B</td>\n",
       "      <td>A</td>\n",
       "      <td>A</td>\n",
       "      <td>B</td>\n",
       "      <td>A</td>\n",
       "      <td>A</td>\n",
       "      <td>A</td>\n",
       "      <td>A</td>\n",
       "      <td>A</td>\n",
       "      <td>A</td>\n",
       "      <td>A</td>\n",
       "      <td>A</td>\n",
       "      <td>A</td>\n",
       "      <td>A</td>\n",
       "      <td>A</td>\n",
       "      <td>A</td>\n",
       "      <td>A</td>\n",
       "      <td>A</td>\n",
       "      <td>A</td>\n",
       "      <td>A</td>\n",
       "      <td>A</td>\n",
       "      <td>A</td>\n",
       "      <td>B</td>\n",
       "      <td>A</td>\n",
       "      <td>A</td>\n",
       "      <td>A</td>\n",
       "      <td>A</td>\n",
       "      <td>B</td>\n",
       "      <td>A</td>\n",
       "      <td>A</td>\n",
       "      <td>A</td>\n",
       "      <td>A</td>\n",
       "      <td>A</td>\n",
       "      <td>A</td>\n",
       "      <td>A</td>\n",
       "      <td>A</td>\n",
       "      <td>A</td>\n",
       "      <td>A</td>\n",
       "      <td>A</td>\n",
       "      <td>...</td>\n",
       "      <td>A</td>\n",
       "      <td>C</td>\n",
       "      <td>D</td>\n",
       "      <td>D</td>\n",
       "      <td>E</td>\n",
       "      <td>C</td>\n",
       "      <td>A</td>\n",
       "      <td>P</td>\n",
       "      <td>H</td>\n",
       "      <td>A</td>\n",
       "      <td>A</td>\n",
       "      <td>A</td>\n",
       "      <td>F</td>\n",
       "      <td>G</td>\n",
       "      <td>G</td>\n",
       "      <td>G</td>\n",
       "      <td>D</td>\n",
       "      <td>BI</td>\n",
       "      <td>EG</td>\n",
       "      <td>E</td>\n",
       "      <td>E</td>\n",
       "      <td>AN</td>\n",
       "      <td>A</td>\n",
       "      <td>K</td>\n",
       "      <td>GS</td>\n",
       "      <td>0.304143</td>\n",
       "      <td>0.422197</td>\n",
       "      <td>0.61366</td>\n",
       "      <td>0.189137</td>\n",
       "      <td>0.281143</td>\n",
       "      <td>0.379574</td>\n",
       "      <td>0.622473</td>\n",
       "      <td>0.28768</td>\n",
       "      <td>0.35897</td>\n",
       "      <td>0.26029</td>\n",
       "      <td>0.511698</td>\n",
       "      <td>0.519456</td>\n",
       "      <td>0.271571</td>\n",
       "      <td>0.806096</td>\n",
       "      <td>2825.85</td>\n",
       "    </tr>\n",
       "  </tbody>\n",
       "</table>\n",
       "<p>1 rows × 132 columns</p>\n",
       "</div>"
      ],
      "text/plain": [
       "       id cat1 cat2 cat3 cat4  ...    cont11    cont12    cont13    cont14     loss\n",
       "0  147361    B    A    A    B  ...  0.511698  0.519456  0.271571  0.806096  2825.85\n",
       "\n",
       "[1 rows x 132 columns]"
      ]
     },
     "execution_count": 4,
     "metadata": {
      "tags": []
     },
     "output_type": "execute_result"
    }
   ],
   "source": [
    "data_train = pd.read_csv('/content/train.csv')\n",
    "data_test = pd.read_csv('/content/test.csv')\n",
    "#selecting random quary point from train set(with loss variable) and test set(without loss variable)\n",
    "rand_data1 = random.choice(data_train.values)\n",
    "rand_data2 = random.choice(data_test.values)\n",
    "\n",
    "#creating dataframe for two query point\n",
    "data_point1 = pd.DataFrame(data=rand_data1.reshape(1,-1),columns=data_train.columns)\n",
    "data_point2 = pd.DataFrame(data=rand_data2.reshape(1,-1),columns=data_test.columns)\n",
    "\n",
    "data_point1"
   ]
  },
  {
   "cell_type": "code",
   "execution_count": 5,
   "metadata": {
    "colab": {
     "base_uri": "https://localhost:8080/",
     "height": 129
    },
    "executionInfo": {
     "elapsed": 5746,
     "status": "ok",
     "timestamp": 1604916514309,
     "user": {
      "displayName": "Ananda Hange",
      "photoUrl": "",
      "userId": "08318906962772725564"
     },
     "user_tz": -330
    },
    "id": "U6M3sZUVw_Bm",
    "outputId": "89941c3f-f656-4f59-a011-3eb1a06391d0"
   },
   "outputs": [
    {
     "data": {
      "text/html": [
       "<div>\n",
       "<style scoped>\n",
       "    .dataframe tbody tr th:only-of-type {\n",
       "        vertical-align: middle;\n",
       "    }\n",
       "\n",
       "    .dataframe tbody tr th {\n",
       "        vertical-align: top;\n",
       "    }\n",
       "\n",
       "    .dataframe thead th {\n",
       "        text-align: right;\n",
       "    }\n",
       "</style>\n",
       "<table border=\"1\" class=\"dataframe\">\n",
       "  <thead>\n",
       "    <tr style=\"text-align: right;\">\n",
       "      <th></th>\n",
       "      <th>id</th>\n",
       "      <th>cat1</th>\n",
       "      <th>cat2</th>\n",
       "      <th>cat3</th>\n",
       "      <th>cat4</th>\n",
       "      <th>cat5</th>\n",
       "      <th>cat6</th>\n",
       "      <th>cat7</th>\n",
       "      <th>cat8</th>\n",
       "      <th>cat9</th>\n",
       "      <th>cat10</th>\n",
       "      <th>cat11</th>\n",
       "      <th>cat12</th>\n",
       "      <th>cat13</th>\n",
       "      <th>cat14</th>\n",
       "      <th>cat15</th>\n",
       "      <th>cat16</th>\n",
       "      <th>cat17</th>\n",
       "      <th>cat18</th>\n",
       "      <th>cat19</th>\n",
       "      <th>cat20</th>\n",
       "      <th>cat21</th>\n",
       "      <th>cat22</th>\n",
       "      <th>cat23</th>\n",
       "      <th>cat24</th>\n",
       "      <th>cat25</th>\n",
       "      <th>cat26</th>\n",
       "      <th>cat27</th>\n",
       "      <th>cat28</th>\n",
       "      <th>cat29</th>\n",
       "      <th>cat30</th>\n",
       "      <th>cat31</th>\n",
       "      <th>cat32</th>\n",
       "      <th>cat33</th>\n",
       "      <th>cat34</th>\n",
       "      <th>cat35</th>\n",
       "      <th>cat36</th>\n",
       "      <th>cat37</th>\n",
       "      <th>cat38</th>\n",
       "      <th>cat39</th>\n",
       "      <th>...</th>\n",
       "      <th>cat91</th>\n",
       "      <th>cat92</th>\n",
       "      <th>cat93</th>\n",
       "      <th>cat94</th>\n",
       "      <th>cat95</th>\n",
       "      <th>cat96</th>\n",
       "      <th>cat97</th>\n",
       "      <th>cat98</th>\n",
       "      <th>cat99</th>\n",
       "      <th>cat100</th>\n",
       "      <th>cat101</th>\n",
       "      <th>cat102</th>\n",
       "      <th>cat103</th>\n",
       "      <th>cat104</th>\n",
       "      <th>cat105</th>\n",
       "      <th>cat106</th>\n",
       "      <th>cat107</th>\n",
       "      <th>cat108</th>\n",
       "      <th>cat109</th>\n",
       "      <th>cat110</th>\n",
       "      <th>cat111</th>\n",
       "      <th>cat112</th>\n",
       "      <th>cat113</th>\n",
       "      <th>cat114</th>\n",
       "      <th>cat115</th>\n",
       "      <th>cat116</th>\n",
       "      <th>cont1</th>\n",
       "      <th>cont2</th>\n",
       "      <th>cont3</th>\n",
       "      <th>cont4</th>\n",
       "      <th>cont5</th>\n",
       "      <th>cont6</th>\n",
       "      <th>cont7</th>\n",
       "      <th>cont8</th>\n",
       "      <th>cont9</th>\n",
       "      <th>cont10</th>\n",
       "      <th>cont11</th>\n",
       "      <th>cont12</th>\n",
       "      <th>cont13</th>\n",
       "      <th>cont14</th>\n",
       "    </tr>\n",
       "  </thead>\n",
       "  <tbody>\n",
       "    <tr>\n",
       "      <th>0</th>\n",
       "      <td>189635</td>\n",
       "      <td>B</td>\n",
       "      <td>B</td>\n",
       "      <td>A</td>\n",
       "      <td>A</td>\n",
       "      <td>A</td>\n",
       "      <td>A</td>\n",
       "      <td>A</td>\n",
       "      <td>A</td>\n",
       "      <td>B</td>\n",
       "      <td>A</td>\n",
       "      <td>A</td>\n",
       "      <td>A</td>\n",
       "      <td>A</td>\n",
       "      <td>A</td>\n",
       "      <td>A</td>\n",
       "      <td>A</td>\n",
       "      <td>A</td>\n",
       "      <td>A</td>\n",
       "      <td>A</td>\n",
       "      <td>A</td>\n",
       "      <td>A</td>\n",
       "      <td>A</td>\n",
       "      <td>A</td>\n",
       "      <td>A</td>\n",
       "      <td>A</td>\n",
       "      <td>A</td>\n",
       "      <td>A</td>\n",
       "      <td>A</td>\n",
       "      <td>A</td>\n",
       "      <td>A</td>\n",
       "      <td>A</td>\n",
       "      <td>A</td>\n",
       "      <td>A</td>\n",
       "      <td>A</td>\n",
       "      <td>A</td>\n",
       "      <td>A</td>\n",
       "      <td>A</td>\n",
       "      <td>A</td>\n",
       "      <td>A</td>\n",
       "      <td>...</td>\n",
       "      <td>G</td>\n",
       "      <td>H</td>\n",
       "      <td>D</td>\n",
       "      <td>B</td>\n",
       "      <td>C</td>\n",
       "      <td>E</td>\n",
       "      <td>E</td>\n",
       "      <td>D</td>\n",
       "      <td>T</td>\n",
       "      <td>I</td>\n",
       "      <td>C</td>\n",
       "      <td>A</td>\n",
       "      <td>A</td>\n",
       "      <td>H</td>\n",
       "      <td>E</td>\n",
       "      <td>I</td>\n",
       "      <td>Q</td>\n",
       "      <td>K</td>\n",
       "      <td>BI</td>\n",
       "      <td>CO</td>\n",
       "      <td>A</td>\n",
       "      <td>AG</td>\n",
       "      <td>AJ</td>\n",
       "      <td>A</td>\n",
       "      <td>P</td>\n",
       "      <td>HX</td>\n",
       "      <td>0.099045</td>\n",
       "      <td>0.785784</td>\n",
       "      <td>0.215772</td>\n",
       "      <td>0.432728</td>\n",
       "      <td>0.397069</td>\n",
       "      <td>0.516811</td>\n",
       "      <td>0.434643</td>\n",
       "      <td>0.29758</td>\n",
       "      <td>0.19862</td>\n",
       "      <td>0.56081</td>\n",
       "      <td>0.461077</td>\n",
       "      <td>0.450922</td>\n",
       "      <td>0.743962</td>\n",
       "      <td>0.78722</td>\n",
       "    </tr>\n",
       "  </tbody>\n",
       "</table>\n",
       "<p>1 rows × 131 columns</p>\n",
       "</div>"
      ],
      "text/plain": [
       "       id cat1 cat2 cat3 cat4  ...   cont10    cont11    cont12    cont13   cont14\n",
       "0  189635    B    B    A    A  ...  0.56081  0.461077  0.450922  0.743962  0.78722\n",
       "\n",
       "[1 rows x 131 columns]"
      ]
     },
     "execution_count": 5,
     "metadata": {
      "tags": []
     },
     "output_type": "execute_result"
    }
   ],
   "source": [
    "data_point2"
   ]
  },
  {
   "cell_type": "code",
   "execution_count": 6,
   "metadata": {
    "executionInfo": {
     "elapsed": 741,
     "status": "ok",
     "timestamp": 1604916521227,
     "user": {
      "displayName": "Ananda Hange",
      "photoUrl": "",
      "userId": "08318906962772725564"
     },
     "user_tz": -330
    },
    "id": "yPi-MLVuAo7M"
   },
   "outputs": [],
   "source": [
    "#X1 when we have actual 'loss' value for evaluation metric\n",
    "X1 = data_point1.drop(['id','loss'],axis = 1)\n",
    "y1 = data_point1['loss']\n",
    "\n",
    "#X2  when we not have dependent variable 'loss'\n",
    "X2 = data_point2.drop(['id'],axis = 1)"
   ]
  },
  {
   "cell_type": "code",
   "execution_count": null,
   "metadata": {
    "id": "ypNH8EoeBIbE"
   },
   "outputs": [],
   "source": [
    "'''\n",
    "#loading essential variables and best model(Xgboost) that we found\n",
    "loaded_model = joblib.load('/content/finalized_model1.sav')\n",
    "label_encoded_map_dict = np.load('/content/label_encoded_map_dict.npy',allow_pickle='TRUE').item()\n",
    "feature_level_count_train_dict = np.load('/content/feature_level_count_train_dict.npy',allow_pickle='TRUE').item()\n",
    "\n",
    "categorical_features_train = np.load('/content/categorical_features_train.npy',allow_pickle='TRUE')\n",
    "'''"
   ]
  },
  {
   "cell_type": "code",
   "execution_count": 12,
   "metadata": {
    "executionInfo": {
     "elapsed": 941,
     "status": "ok",
     "timestamp": 1604916593869,
     "user": {
      "displayName": "Ananda Hange",
      "photoUrl": "",
      "userId": "08318906962772725564"
     },
     "user_tz": -330
    },
    "id": "eOH-SAcyCUpE"
   },
   "outputs": [],
   "source": [
    "#preprocessing query point\n",
    "#In this function we will put 'NaN' if any level in categorical feature is missing in query point.\n",
    "\n",
    "def search_feature(x,combine_set):\n",
    "  #print(combine_set)\n",
    "  if x in combine_set:\n",
    "      return np.nan\n",
    "  return x\n",
    "\n",
    "def preprocessing(X,feature_level_count_train_dict,categorical_features_train):\n",
    "\n",
    " \n",
    "  X_test =  X.copy()\n",
    "  for col in categorical_features_train:\n",
    "    if (set(feature_level_count_train_dict[col].keys()) - set(X_test[col].unique())) or (set(X_test[col].unique()) - set(feature_level_count_train_dict[col].keys())) :\n",
    "      #print('yes')\n",
    "      unique_train = set(feature_level_count_train_dict[col].keys())\n",
    "      unique_test = set(X_test[col].unique())\n",
    "      rem_train = unique_train-unique_test\n",
    "      rem_test = unique_test-unique_train\n",
    "      #print('rem_train',rem_train)\n",
    "      #print('rem_test',rem_test)\n",
    "      combine_set = rem_train.union(rem_test)\n",
    "      #print('combine_set',combine_set)\n",
    "      mapp_nan = {i: np.nan for i in combine_set }\n",
    "      #print( mapp_nan)\n",
    "      #uniq_nan_testdf['cat92'] = uniq_nan_testdf['cat92'].map(mapp_nan)\n",
    "\n",
    "      X_test[col] = X_test[col].apply(lambda x: search_feature(x,combine_set),1)\n",
    "\n",
    "  return X_test"
   ]
  },
  {
   "cell_type": "code",
   "execution_count": 13,
   "metadata": {
    "executionInfo": {
     "elapsed": 1356,
     "status": "ok",
     "timestamp": 1604916594313,
     "user": {
      "displayName": "Ananda Hange",
      "photoUrl": "",
      "userId": "08318906962772725564"
     },
     "user_tz": -330
    },
    "id": "xkq--OomFSxj"
   },
   "outputs": [],
   "source": [
    "#encoding of query point:\n",
    "def feature_engineering(X_q,label_encoded_map_dict,categorical_features_train):\n",
    "  X_test_lb_encoded = X_q.copy()\n",
    "\n",
    "  for col in categorical_features_train:\n",
    "    X_test_lb_encoded [col] = X_q[col].map(label_encoded_map_dict[col])\n",
    "  return X_test_lb_encoded"
   ]
  },
  {
   "cell_type": "markdown",
   "metadata": {
    "id": "Mv9deAyK064O"
   },
   "source": [
    "### Final function with y variable"
   ]
  },
  {
   "cell_type": "code",
   "execution_count": 21,
   "metadata": {
    "executionInfo": {
     "elapsed": 1452,
     "status": "ok",
     "timestamp": 1604916890238,
     "user": {
      "displayName": "Ananda Hange",
      "photoUrl": "",
      "userId": "08318906962772725564"
     },
     "user_tz": -330
    },
    "id": "qmXLfto5F8bi"
   },
   "outputs": [],
   "source": [
    "#combining all function to predict query point with y:\n",
    "def final_func_with_y(X,y):\n",
    "  #first we load variables\n",
    "  categorical_features_train = np.load('/content/categorical_features_train.npy',allow_pickle='TRUE')\n",
    "  feature_level_count_train_dict = np.load('/content/feature_level_count_train_dict.npy',allow_pickle='TRUE').item()\n",
    "  #preprocessing Query point\n",
    "  X_q = preprocessing(X,feature_level_count_train_dict,categorical_features_train)\n",
    "  label_encoded_map_dict = np.load('/content/label_encoded_map_dict.npy',allow_pickle='TRUE').item()\n",
    "  #encoding query point\n",
    "  X_q = feature_engineering(X_q,label_encoded_map_dict,categorical_features_train).astype('float')\n",
    "  #loading model\n",
    "  loaded_model = joblib.load('/content/finalized_model1.sav')\n",
    "  #prediction\n",
    "  y_pred = loaded_model.predict(X_q)\n",
    "  y_pred = np.exp(y_pred) - 200\n",
    "  # MAE evaluation\n",
    "  mae = mean_absolute_error(y_pred,y)\n",
    "  \n",
    "  print('prediction : ',y_pred[0])\n",
    "  print('MAE score: ',mae)\n",
    "  \n",
    "\n"
   ]
  },
  {
   "cell_type": "code",
   "execution_count": 22,
   "metadata": {
    "colab": {
     "base_uri": "https://localhost:8080/"
    },
    "executionInfo": {
     "elapsed": 1730,
     "status": "ok",
     "timestamp": 1604916891294,
     "user": {
      "displayName": "Ananda Hange",
      "photoUrl": "",
      "userId": "08318906962772725564"
     },
     "user_tz": -330
    },
    "id": "f0wIvhy5JCTY",
    "outputId": "55d21faa-f358-4897-ebef-0075d710cd8e"
   },
   "outputs": [
    {
     "name": "stdout",
     "output_type": "stream",
     "text": [
      "prediction :  2698.0632\n",
      "MAE score:  127.78676757812491\n",
      "Total execution time for a query point is : 0.5385403633117676 sec \n"
     ]
    }
   ],
   "source": [
    "start = time.time()\n",
    "\n",
    "\n",
    "final_func_with_y(X1,y1)\n",
    "\n",
    "end = time.time()\n",
    "print('Total execution time for a query point is : {} sec '.format((end - start)))"
   ]
  },
  {
   "cell_type": "markdown",
   "metadata": {
    "id": "6o1jaUVI1DDr"
   },
   "source": [
    "### Final function without y variable"
   ]
  },
  {
   "cell_type": "code",
   "execution_count": 23,
   "metadata": {
    "executionInfo": {
     "elapsed": 1199,
     "status": "ok",
     "timestamp": 1604916896604,
     "user": {
      "displayName": "Ananda Hange",
      "photoUrl": "",
      "userId": "08318906962772725564"
     },
     "user_tz": -330
    },
    "id": "HlsnMx7YuLk9"
   },
   "outputs": [],
   "source": [
    "#combining all function to predict query point without y:\n",
    "def final_func_without_y(X):\n",
    "  #first we load variables\n",
    "  categorical_features_train = np.load('/content/categorical_features_train.npy',allow_pickle='TRUE')\n",
    "  feature_level_count_train_dict = np.load('/content/feature_level_count_train_dict.npy',allow_pickle='TRUE').item()\n",
    "  #preprocessing Query point\n",
    "  X_q = preprocessing(X,feature_level_count_train_dict,categorical_features_train)\n",
    "  label_encoded_map_dict = np.load('/content/label_encoded_map_dict.npy',allow_pickle='TRUE').item()\n",
    "  #encoding query point\n",
    "  X_q = feature_engineering(X_q,label_encoded_map_dict,categorical_features_train).astype('float')\n",
    "  #loading model\n",
    "  loaded_model = joblib.load('/content/finalized_model1.sav')\n",
    "  #prediction\n",
    "  y_pred = loaded_model.predict(X_q)\n",
    "  y_pred = np.exp(y_pred) - 200\n",
    "  \n",
    "  print('prediction : ',y_pred[0])\n",
    "  "
   ]
  },
  {
   "cell_type": "code",
   "execution_count": 24,
   "metadata": {
    "colab": {
     "base_uri": "https://localhost:8080/"
    },
    "executionInfo": {
     "elapsed": 1519,
     "status": "ok",
     "timestamp": 1604916898681,
     "user": {
      "displayName": "Ananda Hange",
      "photoUrl": "",
      "userId": "08318906962772725564"
     },
     "user_tz": -330
    },
    "id": "SysCBb-0yBFp",
    "outputId": "1a488134-06b3-432d-def2-7737e75cf8ef"
   },
   "outputs": [
    {
     "name": "stdout",
     "output_type": "stream",
     "text": [
      "prediction :  993.9398\n",
      "total execution time for a query point is :  0.5183806419372559\n"
     ]
    }
   ],
   "source": [
    "start = time.time()\n",
    "\n",
    "\n",
    "final_func_without_y(X2)\n",
    "\n",
    "end = time.time()\n",
    "print('total execution time for a query point is : ',(end - start))"
   ]
  },
  {
   "cell_type": "code",
   "execution_count": null,
   "metadata": {
    "id": "utSxEgFEyK8F"
   },
   "outputs": [],
   "source": []
  }
 ],
 "metadata": {
  "accelerator": "GPU",
  "colab": {
   "collapsed_sections": [],
   "name": "Final1.ipynb",
   "provenance": [],
   "toc_visible": true
  },
  "kernelspec": {
   "display_name": "Python 3",
   "language": "python",
   "name": "python3"
  },
  "language_info": {
   "codemirror_mode": {
    "name": "ipython",
    "version": 3
   },
   "file_extension": ".py",
   "mimetype": "text/x-python",
   "name": "python",
   "nbconvert_exporter": "python",
   "pygments_lexer": "ipython3",
   "version": "3.6.5"
  }
 },
 "nbformat": 4,
 "nbformat_minor": 1
}
